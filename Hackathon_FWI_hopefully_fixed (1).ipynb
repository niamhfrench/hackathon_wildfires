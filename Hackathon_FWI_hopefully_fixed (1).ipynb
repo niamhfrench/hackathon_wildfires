{
 "cells": [
  {
   "cell_type": "markdown",
   "metadata": {},
   "source": [
    "## Canadian Fire Weather Index"
   ]
  },
  {
   "cell_type": "markdown",
   "metadata": {},
   "source": [
    "*Theodore Keeping*"
   ]
  },
  {
   "cell_type": "markdown",
   "metadata": {},
   "source": [
    "**Adapted from: (with comments and debugging)**\n",
    "\n",
    "Wang, Y., Anderson, K.R. and Suddaby, R.M., 2015. *Updated source code for calculating fire danger indices in the Canadian Forest Fire Weather Index System.*\n",
    "\n",
    "\n",
    "\"Daily inputs to the system consist of temperature (°C), relative humidity (%), wind speed (km/h), and precipitation mm) over the past 24 hours\""
   ]
  },
  {
   "cell_type": "markdown",
   "metadata": {},
   "source": [
    "### FWI main body"
   ]
  },
  {
   "cell_type": "code",
   "execution_count": 10,
   "metadata": {},
   "outputs": [],
   "source": [
    "import math"
   ]
  },
  {
   "cell_type": "code",
   "execution_count": 28,
   "metadata": {},
   "outputs": [],
   "source": [
    "class FWICLASS:\n",
    "    \n",
    "    # ********* new function **********\n",
    "    # Defining some attributes of the FWICLASS\n",
    "    def __init__(self,temp,rhum,wind,prcp):\n",
    "        self.h = rhum    # Relative humidity\n",
    "        self.t = temp    # Temperature\n",
    "        self.w = wind    # Wind\n",
    "        self.p = prcp    # Precipitation\n",
    "\n",
    "    \n",
    "    \n",
    "    \n",
    "    # ********* new function **********    \n",
    "    # Calculating the fine fuel moisture code (FFMC)\n",
    "    # mo = FFMC on previous day\n",
    "    # ffmc0 = FFMC as records begin\n",
    "    # rf = Effective rain fall for calculating FFMC\n",
    "    # m = Fine Fuel Moisture Content after drying\n",
    "    # k1 = Intermediate step in calculation of kw\n",
    "    # kw = Natural log wetting rate, ln (M)/day \n",
    "    def FFMCcalc(self,ffmc0):\n",
    "        mo = (147.2*(101.0 - ffmc0))/(59.5 + ffmc0) #*Eq. 1*#\n",
    "        if (self.p > 0.5):\n",
    "            rf = self.p - 0.5 #*Eq. 2*#\n",
    "            if(mo > 150.0):\n",
    "                mo = (mo+42.5*rf*math.exp(-100.0/(251.0-mo))*(1.0 - math.exp(-6.93/rf))) + (.0015*(mo - 150.0)**2)*math.sqrt(rf) #*Eq. 3b*#\n",
    "            elif mo <= 150.0:\n",
    "                mo = mo+42.5*rf*math.exp(-100.0/(251.0-mo))*(1.0 - math.exp(- 6.93/rf)) #*Eq. 3a*#\n",
    "            if(mo > 250.0):\n",
    "                mo = 250.0 \n",
    "            \n",
    "    \n",
    "        # Fine Fuel equilibrium moisture content(EMC) for drying \n",
    "        ed = .942*(self.h**.679) + (11.0*math.exp((self.h-100.0)/10.0))+0.18*(21.1-self.t)*(1.0 - 1.0/math.exp(.1150 * self.h)) #*Eq. 4*#\n",
    "\n",
    "        # Defining m (Fine Fuel Moisture Content after drying )\n",
    "        if(mo < ed):\n",
    "            ew = .618*(self.h**.753) + (10.0*math.exp((self.h-100.0)/10.0)) + .18*(21.1-self.t)*(1.0 - 1.0/math.exp(.115 * self.h)) #*Eq. 5*#\n",
    "            if(mo <= ew):\n",
    "                kl = .424*(1.0-((100.0-self.h)/100.0)**1.7)+(.0694*math.sqrt(self.w))*(1.0 - ((100.0 - self.h)/100.0)**8) #*Eq. 7a*#\n",
    "                kw = kl * (.581 * math.exp(.0365 * self.t)) #*Eq. 7b*#\n",
    "                m = ew - (ew - mo)/10.0**kw #*Eq. 9*#\n",
    "            elif mo > ew:\n",
    "                m = mo\n",
    "\n",
    "        elif(mo == ed):\n",
    "            m = mo\n",
    "\n",
    "        elif mo > ed:\n",
    "            kl =.424*(1.0-(self.h/100.0)**1.7)+(.0694*math.sqrt(self.w))*(1.0-(self.h/100.0)**8) #*Eq. 6a*#\n",
    "            kw = kl * (.581*math.exp(.0365*self.t)) #*Eq. 6b*#\n",
    "            m = ed + (mo-ed)/10.0 ** kw #*Eq. 8*#\n",
    "\n",
    "        # Calculating ffmc output    \n",
    "        ffmc = (59.5 * (250.0 -m)) / (147.2 + m) #*Eq. 10*#\n",
    "        if (ffmc > 101.0):\n",
    "            ffmc = 101.0\n",
    "        if (ffmc <= 0.0):\n",
    "            ffmc = 0.0\n",
    "        return ffmc\n",
    "    \n",
    "    \n",
    "    \n",
    "    \n",
    "    \n",
    "    # ********* new function **********    \n",
    "    # Calculating duff moisture code (DMC)\n",
    "    # el = Effective day length in DMC, monthly (FOR CANADA)\n",
    "    # rk = Log drying rate in DMC, ln (M)/day\n",
    "    # t = temperature\n",
    "    # wmi = Duff Moisture Content from previous day\n",
    "    # wmr = Duff moisture content after rain\n",
    "    # pr  = DMC after rain\n",
    "    # dmc0 = 6.0 (constant)\n",
    "    # mth = month\n",
    "    def DMCcalc(self,dmc0,mth):\n",
    "        el = [8.5,10.0,12.0,14.0,15.5,16.5,16.0,14.5,12.5,10.5,9.0,8.0] # hard coded here for uk\n",
    "        t = self.t\n",
    "        if (t < -1.1):\n",
    "            t = -1.1\n",
    "        rk = 1.894*(t+1.1) * (100.0-self.h) * (el[mth-1]*0.0001) #*Eqs. 16 and 17*#\n",
    "        if self.p > 1.5:\n",
    "            ra= self.p\n",
    "            rw = 0.92*ra - 1.27   #*Eq. 11*#\n",
    "            wmi = 20.0 + 280.0/math.exp(0.023*dmc0) #*Eq. 12*#\n",
    "            if dmc0 <= 33.0:\n",
    "                b = 100.0 /(0.5 + 0.3*dmc0) #*Eq. 13a*#\n",
    "            elif dmc0 > 33.0:\n",
    "                if dmc0 <= 65.0:\n",
    "                    b = 14.0 - 1.3*math.log(dmc0) #*Eq. 13c*#\n",
    "                elif dmc0 > 65.0:\n",
    "                    b = 6.2 * math.log(dmc0) - 17.2 #*Eq. 13b*#\n",
    "            wmr = wmi + (1000*rw) / (48.77+b*rw)   #*Eq. 14*#\n",
    "            pr = 43.43 * (5.6348 - math.log(wmr-20.0))  #*Eq. 15*#\n",
    "        elif self.p <= 1.5:\n",
    "            pr = dmc0\n",
    "        if (pr<0.0):\n",
    "            pr = 0.0\n",
    "        dmc = pr + rk\n",
    "        if(dmc<= 1.0):\n",
    "            dmc = 1.0\n",
    "        return dmc\n",
    "    \n",
    "\n",
    "    \n",
    "    \n",
    "    \n",
    "    # ********* new function **********   \n",
    "    # Calculating drought code:\n",
    "    # fl = day length adjustment for drought code\n",
    "    # t = temp\n",
    "    # pe = Potential evapotranspiration, units of 0.254 mm water/day \n",
    "    # mth = month\n",
    "    # ra = rainfall\n",
    "    # rw = effective rainfall for drought code calculation\n",
    "    # smi = Moisture equivalent of previous day’s DC\n",
    "    # dr = DC after rain\n",
    "    # dc0 = input constant (15.0)\n",
    "    def DCcalc(self,dc0,mth):\n",
    "        fl = [-1.6, -1.6, -1.6, 0.9, 3.8, 5.8, 6.4, 5.0, 2.4, 0.4, -1.6, -1.6]\n",
    "        t = self.t\n",
    "        if(t < -2.8):\n",
    "            t = -2.8\n",
    "        pe = (0.36*(t+2.8) + fl[mth-1] )/2    #*Eq. 22*# I think this is a linearisation of the Thornthwaite equation???\n",
    "        if pe <= 0.0:\n",
    "            pe = 0.0\n",
    "        if (self.p > 2.8):\n",
    "            ra = self.p\n",
    "            rw = 0.83*ra - 1.27 #*Eq. 18*#\n",
    "            smi = 800.0 * math.exp(-dc0/400.0) #*Eq. 19*#\n",
    "            dr = dc0 - 400.0*math.log( 1.0+((3.937*rw)/smi) ) #*Eqs. 20 and 21*#\n",
    "            if (dr > 0.0):\n",
    "                dc = dr + pe\n",
    "            else:\n",
    "                dc = pe\n",
    "        elif self.p <= 2.8:\n",
    "            dc = dc0 + pe\n",
    "        return dc\n",
    "\n",
    "    \n",
    "    \n",
    "    \n",
    "    \n",
    "    # ********* new function **********\n",
    "    # Calculating Initial Spread Index (ISI)\n",
    "    # mo = FFMC on previous day\n",
    "    # ff = Fine fuel moisture function\n",
    "    def ISIcalc(self,ffmc):\n",
    "        mo = 147.2*(101.0-ffmc) / (59.5+ffmc)     #*Eq. 1*#\n",
    "        ff = 19.115*math.exp(mo*-0.1386) * (1.0+(mo**5.31)/49300000.0)     #*Eq. 25*#\n",
    "        isi = ff * math.exp(0.05039*self.w)    #*Eq. 26*#\n",
    "        return isi\n",
    "\n",
    "\n",
    "\n",
    "\n",
    "\n",
    "\n",
    "    # ********* new function **********\n",
    "    # Calculating build-up index (BUI)\n",
    "    # dc = drought code\n",
    "    # dmc = duff moisute code\n",
    "    def BUIcalc(self,dmc,dc):\n",
    "        if dmc <= 0.4*dc:\n",
    "            bui = (0.8*dc*dmc) / (dmc+0.4*dc)     #*Eq. 27a*#\n",
    "        else:\n",
    "            bui = dmc-(1.0-0.8*dc/(dmc+0.4*dc))*(0.92+(0.0114*dmc)**1.7)    #*Eq. 27b*#\n",
    "        if bui <0.0:\n",
    "            bui = 0.0\n",
    "        return bui\n",
    "\n",
    "\n",
    "\n",
    "\n",
    "\n",
    "    # ********* new function **********\n",
    "    # Calculating fire weather index (FWI)\n",
    "    # bb = Intermediate FWI\n",
    "    def FWIcalc(self,isi,bui):\n",
    "        if bui <= 80.0:\n",
    "            bb = 0.1 * isi * (0.626*bui**0.809 + 2.0)        #*Eq. 28a*#\n",
    "        else:\n",
    "            bb = 0.1*isi*(1000.0/(25. + 108.64/math.exp(0.023*bui)))        #*Eq. 28b*#\n",
    "        if(bb <= 1.0):\n",
    "            fwi = bb        #*Eq. 30b*#\n",
    "        else:\n",
    "            fwi = math.exp(2.72 * (0.434*math.log(bb))**0.647)        #*Eq. 30a*#\n",
    "        return fwi"
   ]
  },
  {
   "cell_type": "code",
   "execution_count": 12,
   "metadata": {},
   "outputs": [],
   "source": [
    "def FWI_calculate(infile_name):\n",
    "    ffmc0 = 85.0\n",
    "    dmc0 = 6.0\n",
    "    dc0 = 15.0\n",
    "    infile = open(infile_name,'r') #space gapped text file\n",
    "    outfile = open('fwioutput.txt','w')\n",
    "    \n",
    "    try:\n",
    "        for line in infile:\n",
    "            mth,day,temp,rhum,wind,prcp=[float(field) for field in line.strip().lstrip('[').rstrip(']').split()]\n",
    "            if rhum > 100.0:\n",
    "                rhum = 100.0\n",
    "            mth = int(mth)\n",
    "            #print(temp,rhum,wind,prcp)\n",
    "            fwisystem = FWICLASS(temp,rhum,wind,prcp)\n",
    "            ffmc = fwisystem.FFMCcalc(ffmc0)     \n",
    "            dmc  = fwisystem.DMCcalc(dmc0,mth)\n",
    "            dc   = fwisystem.DCcalc(dc0,mth)\n",
    "            isi  = fwisystem.ISIcalc(ffmc)\n",
    "            bui  = fwisystem.BUIcalc(dmc,dc) \n",
    "            fwi  = fwisystem.FWIcalc(isi,bui)\n",
    "            ffmc0 = ffmc\n",
    "            dmc0 = dmc\n",
    "            dc0 = dc\n",
    "            outfile.write('%s %s %s %s %s %s %s %s %s %s %s %s\\n'%(str(mth),str(day),str(temp),str(rhum),str(wind),str(prcp),str(round(ffmc,1)),str(round(dmc,1)),str(round(dc,1)),str(round(isi,1)),str(round(bui,1)),str(round(fwi,1))))\n",
    "    finally:\n",
    "        infile.close()\n",
    "        outfile.close()"
   ]
  },
  {
   "cell_type": "markdown",
   "metadata": {},
   "source": [
    "## The FWI code - including loading data"
   ]
  },
  {
   "cell_type": "markdown",
   "metadata": {},
   "source": [
    "In terminal type:\n",
    "\n",
    "    ln -s /shared/groups/jrole001/geog0121/UKCP18 $HOME/UKCP18\n",
    "    conda config –add envs_dirs /shared/groups/jrole001/geog0121/env"
   ]
  },
  {
   "cell_type": "markdown",
   "metadata": {},
   "source": [
    "## Running the whole timeseries"
   ]
  },
  {
   "cell_type": "code",
   "execution_count": 13,
   "metadata": {},
   "outputs": [],
   "source": [
    "import xarray\n",
    "import numpy as np\n",
    "import matplotlib.pyplot as plt"
   ]
  },
  {
   "cell_type": "code",
   "execution_count": 14,
   "metadata": {},
   "outputs": [],
   "source": [
    "year_start = 1980\n",
    "year_step = 10\n",
    "no_steps = 10"
   ]
  },
  {
   "cell_type": "code",
   "execution_count": 15,
   "metadata": {},
   "outputs": [],
   "source": [
    "UK_data = np.zeros((4,3600*10,112, 82))\n",
    "\n",
    "for i in range(no_steps):\n",
    "    yr = year_start + year_step*i\n",
    "\n",
    "    hurs_file = f'~/UKCP18/day/hurs_rcp85_land-rcm_uk_12km_01_day_{yr}1201-{yr + year_step}1130.nc'\n",
    "    tas_file = f'~/UKCP18/day/tas_rcp85_land-rcm_uk_12km_01_day_{yr}1201-{yr + year_step}1130.nc'\n",
    "    wind_file = f'~/UKCP18/day/sfcWind_rcp85_land-rcm_uk_12km_01_day_{yr}1201-{yr + year_step}1130.nc'\n",
    "    pr_file = f'~/UKCP18/day/pr_rcp85_land-rcm_uk_12km_01_day_{yr}1201-{yr + year_step}1130.nc'\n",
    "    \n",
    "    tas = xarray.open_dataset(tas_file)\n",
    "    UK_data[0,i*3600:(i+1)*3600,:,:] = np.array(tas.tas[0,:,:,:])\n",
    "\n",
    "    hurs = xarray.open_dataset(hurs_file)\n",
    "    UK_data[1,i*3600:(i+1)*3600,:,:] = np.array(hurs.hurs[0,:,:,:])\n",
    "    \n",
    "    wind = xarray.open_dataset(wind_file)\n",
    "    UK_data[2,i*3600:(i+1)*3600,:,:] = np.array(wind.sfcWind[0,:,:,:])*3.6 # converting from m/s to km/hr\n",
    "    \n",
    "    pr = xarray.open_dataset(pr_file)\n",
    "    UK_data[3,i*3600:(i+1)*3600,:,:] = np.array(pr.pr[0,:,:,:])"
   ]
  },
  {
   "cell_type": "code",
   "execution_count": 1,
   "metadata": {},
   "outputs": [
    {
     "ename": "NameError",
     "evalue": "name 'tas' is not defined",
     "output_type": "error",
     "traceback": [
      "\u001b[0;31m---------------------------------------------------------------------------\u001b[0m",
      "\u001b[0;31mNameError\u001b[0m                                 Traceback (most recent call last)",
      "\u001b[0;32m<ipython-input-1-abdff33198dc>\u001b[0m in \u001b[0;36m<module>\u001b[0;34m\u001b[0m\n\u001b[0;32m----> 1\u001b[0;31m \u001b[0mtas\u001b[0m\u001b[0;34m.\u001b[0m\u001b[0mhead\u001b[0m\u001b[0;34m(\u001b[0m\u001b[0;34m)\u001b[0m\u001b[0;34m\u001b[0m\u001b[0;34m\u001b[0m\u001b[0m\n\u001b[0m",
      "\u001b[0;31mNameError\u001b[0m: name 'tas' is not defined"
     ]
    }
   ],
   "source": [
    "tas.head()"
   ]
  },
  {
   "cell_type": "code",
   "execution_count": 29,
   "metadata": {},
   "outputs": [],
   "source": [
    "def FWI_calc(UK_data):\n",
    "    # Starting parameters:\n",
    "    # Defining output array:\n",
    "    #outputs = np.zeros((7,UK_data.shape[1],UK_data.shape[2],UK_data.shape[3]))\n",
    "    # Slimmed down outputs:\n",
    "    outputs = np.zeros((1,UK_data.shape[1],UK_data.shape[2],UK_data.shape[3]))\n",
    "    # Getting variables: mth,temp,rhum,wind,prcp\n",
    "    print(f'Total number of steps: {UK_data.shape[3]}')\n",
    "    for k in range(UK_data.shape[3]):\n",
    "        print(f'Step {k}')\n",
    "        for j in range(UK_data.shape[2]):\n",
    "            ffmc0 = 85.0\n",
    "            dmc0 = 6.0\n",
    "            dc0 = 15.0\n",
    "            for i in range(UK_data.shape[1]):\n",
    "                # Getting month (Dec-Nov year structure)\n",
    "                mth  = int(((i-i%30)/30 - 1)%12 + 1)\n",
    "                temp = UK_data[0,i,j,k]\n",
    "                rhum = UK_data[1,i,j,k]\n",
    "                wind = UK_data[2,i,j,k]\n",
    "                prcp = UK_data[3,i,j,k]\n",
    "                \n",
    "                if rhum > 100.0:\n",
    "                    rhum = 100.0\n",
    "                fwisystem = FWICLASS(temp,rhum,wind,prcp)\n",
    "                ffmc = fwisystem.FFMCcalc(ffmc0)     \n",
    "                dmc  = fwisystem.DMCcalc(dmc0,mth)\n",
    "                dc   = fwisystem.DCcalc(dc0,mth)\n",
    "                isi  = fwisystem.ISIcalc(ffmc)\n",
    "                bui  = fwisystem.BUIcalc(dmc,dc) \n",
    "                fwi  = fwisystem.FWIcalc(isi,bui)\n",
    "                ffmc0 = ffmc\n",
    "                dmc0 = dmc\n",
    "                dc0 = dc\n",
    "                #print(mth,temp,rhum,wind,prcp,ffmc,dmc,dc,isi,bui,fwi)\n",
    "                #outputs[:,i,j,k] = mth,ffmc,dmc,dc,isi,bui,fwi\n",
    "                outputs[:,i,j,k] = fwi\n",
    "                \n",
    "    return outputs"
   ]
  },
  {
   "cell_type": "code",
   "execution_count": null,
   "metadata": {},
   "outputs": [
    {
     "name": "stdout",
     "output_type": "stream",
     "text": [
      "Total number of steps: 82\n",
      "Step 0\n",
      "Step 1\n",
      "Step 2\n",
      "Step 3\n",
      "Step 4\n",
      "Step 5\n",
      "Step 6\n",
      "Step 7\n",
      "Step 8\n",
      "Step 9\n",
      "Step 10\n",
      "Step 11\n",
      "Step 12\n",
      "Step 13\n",
      "Step 14\n",
      "Step 15\n",
      "Step 16\n",
      "Step 17\n",
      "Step 18\n",
      "Step 19\n",
      "Step 20\n",
      "Step 21\n",
      "Step 22\n",
      "Step 23\n",
      "Step 24\n",
      "Step 25\n",
      "Step 26\n",
      "Step 27\n",
      "Step 28\n",
      "Step 29\n"
     ]
    }
   ],
   "source": [
    "outputs = FWI_calc(UK_data)"
   ]
  },
  {
   "cell_type": "code",
   "execution_count": null,
   "metadata": {},
   "outputs": [],
   "source": [
    "print(outputs.shape)\n",
    "print(UK_data.shape)\n",
    "plt.plot(outputs[0,:,38,76])"
   ]
  },
  {
   "cell_type": "code",
   "execution_count": null,
   "metadata": {},
   "outputs": [],
   "source": [
    "data = np.concatenate((UK_data,outputs),axis = 0)\n",
    "print(data.shape)"
   ]
  },
  {
   "cell_type": "code",
   "execution_count": null,
   "metadata": {},
   "outputs": [],
   "source": []
  },
  {
   "cell_type": "code",
   "execution_count": null,
   "metadata": {},
   "outputs": [],
   "source": [
    "np.save(\"~/UKCP18/group1-wildfires/UK_FWI.npy\", data)"
   ]
  },
  {
   "cell_type": "code",
   "execution_count": null,
   "metadata": {},
   "outputs": [],
   "source": [
    "!chmod 666 filename"
   ]
  },
  {
   "cell_type": "markdown",
   "metadata": {},
   "source": [
    "## Testing"
   ]
  },
  {
   "cell_type": "code",
   "execution_count": 26,
   "metadata": {},
   "outputs": [],
   "source": [
    "def FWI_calc(UK_data,months):\n",
    "    # Starting parameters:\n",
    "    # Defining output array:\n",
    "    #outputs = np.zeros((7,UK_data.shape[1],UK_data.shape[2],UK_data.shape[3]))\n",
    "    # Slimmed down outputs:\n",
    "    outputs = np.zeros((1,UK_data.shape[1],UK_data.shape[2],UK_data.shape[3]))\n",
    "    # Getting variables: mth,temp,rhum,wind,prcp\n",
    "    print(f'Total number of steps: {UK_data.shape[3]}')\n",
    "    for k in range(UK_data.shape[3]):\n",
    "        print(f'Step {k}')\n",
    "        for j in range(UK_data.shape[2]):\n",
    "            ffmc0 = 85.0\n",
    "            dmc0 = 6.0\n",
    "            dc0 = 15.0\n",
    "            for i in range(UK_data.shape[1]):\n",
    "                # Getting month (Dec-Nov year structure)\n",
    "                #mth  = int(((i-i%30)/30 - 1)%12 + 1)\n",
    "                mth = int(months[i])\n",
    "                temp = UK_data[0,i,j,k]\n",
    "                rhum = UK_data[1,i,j,k]\n",
    "                wind = UK_data[2,i,j,k]\n",
    "                prcp = UK_data[3,i,j,k]\n",
    "                \n",
    "                if rhum > 100.0:\n",
    "                    rhum = 100.0\n",
    "                fwisystem = FWICLASS(temp,rhum,wind,prcp)\n",
    "                ffmc = fwisystem.FFMCcalc(ffmc0)     \n",
    "                dmc  = fwisystem.DMCcalc(dmc0,mth)\n",
    "                dc   = fwisystem.DCcalc(dc0,mth)\n",
    "                isi  = fwisystem.ISIcalc(ffmc)\n",
    "                bui  = fwisystem.BUIcalc(dmc,dc) \n",
    "                fwi  = fwisystem.FWIcalc(isi,bui)\n",
    "                ffmc0 = ffmc\n",
    "                dmc0 = dmc\n",
    "                dc0 = dc\n",
    "                #print(mth,temp,rhum,wind,prcp,ffmc,dmc,dc,isi,bui,fwi)\n",
    "                #outputs[:,i,j,k] = mth,ffmc,dmc,dc,isi,bui,fwi\n",
    "                outputs[:,i,j,k] = fwi\n",
    "                \n",
    "    return outputs"
   ]
  },
  {
   "cell_type": "code",
   "execution_count": 27,
   "metadata": {},
   "outputs": [
    {
     "name": "stdout",
     "output_type": "stream",
     "text": [
      "Total number of steps: 1\n",
      "Step 0\n",
      "[0.1 0.2 0.2 0.2 0.5 0.4 0.2 0.3 0.4 0.  0.  0.  0.  0.2 0.5 0.6 0.7 0.6\n",
      " 0.4 0.4 0.6 1.  1.  1.  2.2 1.2 0.1 0.2 0.3 0.3 0.5 0.7 0.6 0.  0.1 0.3\n",
      " 0.3 0.5 0.7 0.2 0.9 0.1 0.1 0.1 0.1 0.1 0.2 0.3 0.4]\n"
     ]
    }
   ],
   "source": [
    "# Set el = [6.5,7.5,9.0,12.8,13.9,13.9,12.4,10.9,9.4,8.0,7.0,6.0] in FWICLASS\n",
    "\n",
    "test_data = np.loadtxt('test_data.txt')\n",
    "\n",
    "in_data = np.zeros((4,49,1,1))\n",
    "in_data[0,:,0,0] = test_data[:,2]\n",
    "in_data[1,:,0,0] = test_data[:,3]\n",
    "in_data[2,:,0,0] = test_data[:,4]\n",
    "in_data[3,:,0,0] = test_data[:,5]\n",
    "months = test_data[:,0]\n",
    "\n",
    "out_data = FWI_calc(in_data,months)\n",
    "fwi_test = test_data[:,11]\n",
    "\n",
    "print(np.around(out_data[0,:,0,0],1) - fwi_test)"
   ]
  }
 ],
 "metadata": {
  "kernelspec": {
   "display_name": "Python [conda env:geog0121-jupyter_japsy]",
   "language": "python",
   "name": "conda-env-geog0121-jupyter_japsy-py"
  },
  "language_info": {
   "codemirror_mode": {
    "name": "ipython",
    "version": 3
   },
   "file_extension": ".py",
   "mimetype": "text/x-python",
   "name": "python",
   "nbconvert_exporter": "python",
   "pygments_lexer": "ipython3",
   "version": "3.7.10"
  }
 },
 "nbformat": 4,
 "nbformat_minor": 4
}
