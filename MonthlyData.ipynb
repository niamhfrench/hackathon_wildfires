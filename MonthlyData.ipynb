{
 "cells": [
  {
   "cell_type": "code",
   "execution_count": 1,
   "metadata": {},
   "outputs": [],
   "source": [
    "import numpy as np\n",
    "msr = np.load('UKCP18/group1-wildfires/UK_MSR.npy')"
   ]
  },
  {
   "cell_type": "markdown",
   "metadata": {},
   "source": [
    "The monthly severity ratings."
   ]
  },
  {
   "cell_type": "code",
   "execution_count": 2,
   "metadata": {},
   "outputs": [
    {
     "data": {
      "text/plain": [
       "(1200, 112, 82)"
      ]
     },
     "execution_count": 2,
     "metadata": {},
     "output_type": "execute_result"
    }
   ],
   "source": [
    "msr.shape"
   ]
  },
  {
   "cell_type": "code",
   "execution_count": 4,
   "metadata": {},
   "outputs": [
    {
     "data": {
      "text/plain": [
       "11020800"
      ]
     },
     "execution_count": 4,
     "metadata": {},
     "output_type": "execute_result"
    }
   ],
   "source": [
    "msr.size"
   ]
  },
  {
   "cell_type": "code",
   "execution_count": 14,
   "metadata": {},
   "outputs": [
    {
     "data": {
      "text/plain": [
       "(2, 2, 3)"
      ]
     },
     "execution_count": 14,
     "metadata": {},
     "output_type": "execute_result"
    }
   ],
   "source": [
    "# Testing out the shapes of arrays and the reshape tool\n",
    "a = np.array([[[1, 2,3], [4,5,6]], [[7, 8,9], [10,11,12]]])\n",
    "a.shape"
   ]
  },
  {
   "cell_type": "code",
   "execution_count": 17,
   "metadata": {},
   "outputs": [
    {
     "data": {
      "text/plain": [
       "array([[ 1,  2,  3],\n",
       "       [ 4,  5,  6],\n",
       "       [ 7,  8,  9],\n",
       "       [10, 11, 12]])"
      ]
     },
     "execution_count": 17,
     "metadata": {},
     "output_type": "execute_result"
    }
   ],
   "source": [
    "np.reshape(a, (4, 3))"
   ]
  },
  {
   "cell_type": "code",
   "execution_count": 19,
   "metadata": {},
   "outputs": [
    {
     "data": {
      "text/plain": [
       "4"
      ]
     },
     "execution_count": 19,
     "metadata": {},
     "output_type": "execute_result"
    }
   ],
   "source": [
    "a.shape[0]*a.shape[1]"
   ]
  },
  {
   "cell_type": "code",
   "execution_count": 21,
   "metadata": {},
   "outputs": [],
   "source": [
    "# Time x Lat x Long - the matrices are lat x long, and each matrix has the values for a different time (m x r x c)\n",
    "msr2 = np.reshape(msr, (msr.shape[0]*msr.shape[1], msr.shape[2]))"
   ]
  },
  {
   "cell_type": "code",
   "execution_count": 22,
   "metadata": {},
   "outputs": [
    {
     "data": {
      "text/plain": [
       "(134400, 82)"
      ]
     },
     "execution_count": 22,
     "metadata": {},
     "output_type": "execute_result"
    }
   ],
   "source": [
    "msr2.shape"
   ]
  },
  {
   "cell_type": "code",
   "execution_count": 36,
   "metadata": {},
   "outputs": [
    {
     "data": {
      "text/plain": [
       "array([[ 2.,  5.],\n",
       "       [ 8., 11.]])"
      ]
     },
     "execution_count": 36,
     "metadata": {},
     "output_type": "execute_result"
    }
   ],
   "source": [
    "# Means within matrices\n",
    "a.mean(axis = 2)\n",
    "# By row/latitude"
   ]
  },
  {
   "cell_type": "code",
   "execution_count": 38,
   "metadata": {},
   "outputs": [
    {
     "data": {
      "text/plain": [
       "array([[[ 1,  2,  3],\n",
       "        [ 4,  5,  6]],\n",
       "\n",
       "       [[ 7,  8,  9],\n",
       "        [10, 11, 12]],\n",
       "\n",
       "       [[ 1,  1,  2],\n",
       "        [ 2,  2,  1]]])"
      ]
     },
     "execution_count": 38,
     "metadata": {},
     "output_type": "execute_result"
    }
   ],
   "source": [
    "b = np.array([[[1, 2,3], [4,5,6]], [[7, 8,9], [10,11,12]],[[1, 1,2], [2,2,1]]])\n",
    "b"
   ]
  },
  {
   "cell_type": "code",
   "execution_count": 48,
   "metadata": {},
   "outputs": [],
   "source": [
    "c = np.reshape(b, (3, 6))"
   ]
  },
  {
   "cell_type": "code",
   "execution_count": 46,
   "metadata": {},
   "outputs": [],
   "source": [
    "# Reshaping the data to prepare it for taking the averages\n",
    "avgprep = np.reshape(msr, (msr.shape[0], msr.shape[1]*msr.shape[2]))"
   ]
  },
  {
   "cell_type": "code",
   "execution_count": 47,
   "metadata": {},
   "outputs": [
    {
     "data": {
      "text/plain": [
       "(1200, 9184)"
      ]
     },
     "execution_count": 47,
     "metadata": {},
     "output_type": "execute_result"
    }
   ],
   "source": [
    "avgprep.shape"
   ]
  },
  {
   "cell_type": "code",
   "execution_count": 49,
   "metadata": {},
   "outputs": [
    {
     "data": {
      "text/plain": [
       "array([[ 1,  2,  3,  4,  5,  6],\n",
       "       [ 7,  8,  9, 10, 11, 12],\n",
       "       [ 1,  1,  2,  2,  2,  1]])"
      ]
     },
     "execution_count": 49,
     "metadata": {},
     "output_type": "execute_result"
    }
   ],
   "source": [
    "c"
   ]
  },
  {
   "cell_type": "code",
   "execution_count": 52,
   "metadata": {},
   "outputs": [
    {
     "data": {
      "text/plain": [
       "array([3.        , 3.66666667, 4.66666667, 5.33333333, 6.        ,\n",
       "       6.33333333])"
      ]
     },
     "execution_count": 52,
     "metadata": {},
     "output_type": "execute_result"
    }
   ],
   "source": [
    "# axis = 0 averages over the columns, axis = 1 averages across the rows\n",
    "c.mean(axis = 0)"
   ]
  },
  {
   "cell_type": "code",
   "execution_count": 53,
   "metadata": {},
   "outputs": [],
   "source": [
    "# Averages\n",
    "avgMSR = avgprep.mean(axis = 1)"
   ]
  },
  {
   "cell_type": "code",
   "execution_count": 54,
   "metadata": {},
   "outputs": [
    {
     "data": {
      "text/plain": [
       "(1200,)"
      ]
     },
     "execution_count": 54,
     "metadata": {},
     "output_type": "execute_result"
    }
   ],
   "source": [
    "avgMSR.shape"
   ]
  },
  {
   "cell_type": "code",
   "execution_count": 59,
   "metadata": {},
   "outputs": [],
   "source": [
    "import pandas as pd"
   ]
  },
  {
   "cell_type": "code",
   "execution_count": 83,
   "metadata": {},
   "outputs": [],
   "source": [
    "DF = pd.DataFrame(avgMSR)"
   ]
  },
  {
   "cell_type": "code",
   "execution_count": 92,
   "metadata": {},
   "outputs": [],
   "source": [
    "DF.to_csv(\"MSRstats.csv\")"
   ]
  },
  {
   "cell_type": "code",
   "execution_count": 73,
   "metadata": {},
   "outputs": [],
   "source": [
    "maxMSR = np.amax(avgprep,axis = 1)"
   ]
  },
  {
   "cell_type": "code",
   "execution_count": 84,
   "metadata": {},
   "outputs": [],
   "source": [
    "maxMSR.shape\n",
    "DF.insert(1,'max',maxMSR)"
   ]
  },
  {
   "cell_type": "code",
   "execution_count": 86,
   "metadata": {},
   "outputs": [],
   "source": [
    "# .columns =['Name', 'Code', 'Age', 'Weight']\n",
    "DF.columns = ['avg','max']"
   ]
  },
  {
   "cell_type": "code",
   "execution_count": 87,
   "metadata": {},
   "outputs": [
    {
     "data": {
      "text/html": [
       "<div>\n",
       "<style scoped>\n",
       "    .dataframe tbody tr th:only-of-type {\n",
       "        vertical-align: middle;\n",
       "    }\n",
       "\n",
       "    .dataframe tbody tr th {\n",
       "        vertical-align: top;\n",
       "    }\n",
       "\n",
       "    .dataframe thead th {\n",
       "        text-align: right;\n",
       "    }\n",
       "</style>\n",
       "<table border=\"1\" class=\"dataframe\">\n",
       "  <thead>\n",
       "    <tr style=\"text-align: right;\">\n",
       "      <th></th>\n",
       "      <th>avg</th>\n",
       "      <th>max</th>\n",
       "    </tr>\n",
       "  </thead>\n",
       "  <tbody>\n",
       "    <tr>\n",
       "      <th>0</th>\n",
       "      <td>0.056218</td>\n",
       "      <td>0.651337</td>\n",
       "    </tr>\n",
       "    <tr>\n",
       "      <th>1</th>\n",
       "      <td>0.035904</td>\n",
       "      <td>0.342417</td>\n",
       "    </tr>\n",
       "    <tr>\n",
       "      <th>2</th>\n",
       "      <td>0.046693</td>\n",
       "      <td>0.211206</td>\n",
       "    </tr>\n",
       "    <tr>\n",
       "      <th>3</th>\n",
       "      <td>0.082837</td>\n",
       "      <td>0.526890</td>\n",
       "    </tr>\n",
       "    <tr>\n",
       "      <th>4</th>\n",
       "      <td>0.072268</td>\n",
       "      <td>0.328392</td>\n",
       "    </tr>\n",
       "    <tr>\n",
       "      <th>...</th>\n",
       "      <td>...</td>\n",
       "      <td>...</td>\n",
       "    </tr>\n",
       "    <tr>\n",
       "      <th>1195</th>\n",
       "      <td>0.450419</td>\n",
       "      <td>5.820038</td>\n",
       "    </tr>\n",
       "    <tr>\n",
       "      <th>1196</th>\n",
       "      <td>0.688108</td>\n",
       "      <td>11.439051</td>\n",
       "    </tr>\n",
       "    <tr>\n",
       "      <th>1197</th>\n",
       "      <td>1.180219</td>\n",
       "      <td>7.153612</td>\n",
       "    </tr>\n",
       "    <tr>\n",
       "      <th>1198</th>\n",
       "      <td>0.315918</td>\n",
       "      <td>2.599028</td>\n",
       "    </tr>\n",
       "    <tr>\n",
       "      <th>1199</th>\n",
       "      <td>0.294485</td>\n",
       "      <td>3.029814</td>\n",
       "    </tr>\n",
       "  </tbody>\n",
       "</table>\n",
       "<p>1200 rows × 2 columns</p>\n",
       "</div>"
      ],
      "text/plain": [
       "           avg        max\n",
       "0     0.056218   0.651337\n",
       "1     0.035904   0.342417\n",
       "2     0.046693   0.211206\n",
       "3     0.082837   0.526890\n",
       "4     0.072268   0.328392\n",
       "...        ...        ...\n",
       "1195  0.450419   5.820038\n",
       "1196  0.688108  11.439051\n",
       "1197  1.180219   7.153612\n",
       "1198  0.315918   2.599028\n",
       "1199  0.294485   3.029814\n",
       "\n",
       "[1200 rows x 2 columns]"
      ]
     },
     "execution_count": 87,
     "metadata": {},
     "output_type": "execute_result"
    }
   ],
   "source": [
    "DF"
   ]
  },
  {
   "cell_type": "code",
   "execution_count": 88,
   "metadata": {},
   "outputs": [],
   "source": [
    "DF.insert(0,'min',np.amin(avgprep,axis = 1))"
   ]
  },
  {
   "cell_type": "code",
   "execution_count": 89,
   "metadata": {},
   "outputs": [
    {
     "data": {
      "text/html": [
       "<div>\n",
       "<style scoped>\n",
       "    .dataframe tbody tr th:only-of-type {\n",
       "        vertical-align: middle;\n",
       "    }\n",
       "\n",
       "    .dataframe tbody tr th {\n",
       "        vertical-align: top;\n",
       "    }\n",
       "\n",
       "    .dataframe thead th {\n",
       "        text-align: right;\n",
       "    }\n",
       "</style>\n",
       "<table border=\"1\" class=\"dataframe\">\n",
       "  <thead>\n",
       "    <tr style=\"text-align: right;\">\n",
       "      <th></th>\n",
       "      <th>min</th>\n",
       "      <th>avg</th>\n",
       "      <th>max</th>\n",
       "    </tr>\n",
       "  </thead>\n",
       "  <tbody>\n",
       "    <tr>\n",
       "      <th>0</th>\n",
       "      <td>1.339783e-08</td>\n",
       "      <td>0.056218</td>\n",
       "      <td>0.651337</td>\n",
       "    </tr>\n",
       "    <tr>\n",
       "      <th>1</th>\n",
       "      <td>3.844820e-09</td>\n",
       "      <td>0.035904</td>\n",
       "      <td>0.342417</td>\n",
       "    </tr>\n",
       "    <tr>\n",
       "      <th>2</th>\n",
       "      <td>1.075952e-09</td>\n",
       "      <td>0.046693</td>\n",
       "      <td>0.211206</td>\n",
       "    </tr>\n",
       "    <tr>\n",
       "      <th>3</th>\n",
       "      <td>1.107366e-07</td>\n",
       "      <td>0.082837</td>\n",
       "      <td>0.526890</td>\n",
       "    </tr>\n",
       "    <tr>\n",
       "      <th>4</th>\n",
       "      <td>1.483430e-09</td>\n",
       "      <td>0.072268</td>\n",
       "      <td>0.328392</td>\n",
       "    </tr>\n",
       "    <tr>\n",
       "      <th>...</th>\n",
       "      <td>...</td>\n",
       "      <td>...</td>\n",
       "      <td>...</td>\n",
       "    </tr>\n",
       "    <tr>\n",
       "      <th>1195</th>\n",
       "      <td>1.844783e-06</td>\n",
       "      <td>0.450419</td>\n",
       "      <td>5.820038</td>\n",
       "    </tr>\n",
       "    <tr>\n",
       "      <th>1196</th>\n",
       "      <td>4.318208e-04</td>\n",
       "      <td>0.688108</td>\n",
       "      <td>11.439051</td>\n",
       "    </tr>\n",
       "    <tr>\n",
       "      <th>1197</th>\n",
       "      <td>2.755359e-03</td>\n",
       "      <td>1.180219</td>\n",
       "      <td>7.153612</td>\n",
       "    </tr>\n",
       "    <tr>\n",
       "      <th>1198</th>\n",
       "      <td>5.392784e-06</td>\n",
       "      <td>0.315918</td>\n",
       "      <td>2.599028</td>\n",
       "    </tr>\n",
       "    <tr>\n",
       "      <th>1199</th>\n",
       "      <td>2.334236e-06</td>\n",
       "      <td>0.294485</td>\n",
       "      <td>3.029814</td>\n",
       "    </tr>\n",
       "  </tbody>\n",
       "</table>\n",
       "<p>1200 rows × 3 columns</p>\n",
       "</div>"
      ],
      "text/plain": [
       "               min       avg        max\n",
       "0     1.339783e-08  0.056218   0.651337\n",
       "1     3.844820e-09  0.035904   0.342417\n",
       "2     1.075952e-09  0.046693   0.211206\n",
       "3     1.107366e-07  0.082837   0.526890\n",
       "4     1.483430e-09  0.072268   0.328392\n",
       "...            ...       ...        ...\n",
       "1195  1.844783e-06  0.450419   5.820038\n",
       "1196  4.318208e-04  0.688108  11.439051\n",
       "1197  2.755359e-03  1.180219   7.153612\n",
       "1198  5.392784e-06  0.315918   2.599028\n",
       "1199  2.334236e-06  0.294485   3.029814\n",
       "\n",
       "[1200 rows x 3 columns]"
      ]
     },
     "execution_count": 89,
     "metadata": {},
     "output_type": "execute_result"
    }
   ],
   "source": [
    "DF"
   ]
  },
  {
   "cell_type": "code",
   "execution_count": 90,
   "metadata": {},
   "outputs": [],
   "source": [
    "DF.insert(2,'median',np.median(avgprep,axis = 1))"
   ]
  },
  {
   "cell_type": "code",
   "execution_count": 91,
   "metadata": {},
   "outputs": [
    {
     "data": {
      "text/html": [
       "<div>\n",
       "<style scoped>\n",
       "    .dataframe tbody tr th:only-of-type {\n",
       "        vertical-align: middle;\n",
       "    }\n",
       "\n",
       "    .dataframe tbody tr th {\n",
       "        vertical-align: top;\n",
       "    }\n",
       "\n",
       "    .dataframe thead th {\n",
       "        text-align: right;\n",
       "    }\n",
       "</style>\n",
       "<table border=\"1\" class=\"dataframe\">\n",
       "  <thead>\n",
       "    <tr style=\"text-align: right;\">\n",
       "      <th></th>\n",
       "      <th>min</th>\n",
       "      <th>avg</th>\n",
       "      <th>median</th>\n",
       "      <th>max</th>\n",
       "    </tr>\n",
       "  </thead>\n",
       "  <tbody>\n",
       "    <tr>\n",
       "      <th>0</th>\n",
       "      <td>1.339783e-08</td>\n",
       "      <td>0.056218</td>\n",
       "      <td>0.037346</td>\n",
       "      <td>0.651337</td>\n",
       "    </tr>\n",
       "    <tr>\n",
       "      <th>1</th>\n",
       "      <td>3.844820e-09</td>\n",
       "      <td>0.035904</td>\n",
       "      <td>0.022011</td>\n",
       "      <td>0.342417</td>\n",
       "    </tr>\n",
       "    <tr>\n",
       "      <th>2</th>\n",
       "      <td>1.075952e-09</td>\n",
       "      <td>0.046693</td>\n",
       "      <td>0.035521</td>\n",
       "      <td>0.211206</td>\n",
       "    </tr>\n",
       "    <tr>\n",
       "      <th>3</th>\n",
       "      <td>1.107366e-07</td>\n",
       "      <td>0.082837</td>\n",
       "      <td>0.056333</td>\n",
       "      <td>0.526890</td>\n",
       "    </tr>\n",
       "    <tr>\n",
       "      <th>4</th>\n",
       "      <td>1.483430e-09</td>\n",
       "      <td>0.072268</td>\n",
       "      <td>0.067576</td>\n",
       "      <td>0.328392</td>\n",
       "    </tr>\n",
       "    <tr>\n",
       "      <th>...</th>\n",
       "      <td>...</td>\n",
       "      <td>...</td>\n",
       "      <td>...</td>\n",
       "      <td>...</td>\n",
       "    </tr>\n",
       "    <tr>\n",
       "      <th>1195</th>\n",
       "      <td>1.844783e-06</td>\n",
       "      <td>0.450419</td>\n",
       "      <td>0.086525</td>\n",
       "      <td>5.820038</td>\n",
       "    </tr>\n",
       "    <tr>\n",
       "      <th>1196</th>\n",
       "      <td>4.318208e-04</td>\n",
       "      <td>0.688108</td>\n",
       "      <td>0.240566</td>\n",
       "      <td>11.439051</td>\n",
       "    </tr>\n",
       "    <tr>\n",
       "      <th>1197</th>\n",
       "      <td>2.755359e-03</td>\n",
       "      <td>1.180219</td>\n",
       "      <td>0.502825</td>\n",
       "      <td>7.153612</td>\n",
       "    </tr>\n",
       "    <tr>\n",
       "      <th>1198</th>\n",
       "      <td>5.392784e-06</td>\n",
       "      <td>0.315918</td>\n",
       "      <td>0.162854</td>\n",
       "      <td>2.599028</td>\n",
       "    </tr>\n",
       "    <tr>\n",
       "      <th>1199</th>\n",
       "      <td>2.334236e-06</td>\n",
       "      <td>0.294485</td>\n",
       "      <td>0.167000</td>\n",
       "      <td>3.029814</td>\n",
       "    </tr>\n",
       "  </tbody>\n",
       "</table>\n",
       "<p>1200 rows × 4 columns</p>\n",
       "</div>"
      ],
      "text/plain": [
       "               min       avg    median        max\n",
       "0     1.339783e-08  0.056218  0.037346   0.651337\n",
       "1     3.844820e-09  0.035904  0.022011   0.342417\n",
       "2     1.075952e-09  0.046693  0.035521   0.211206\n",
       "3     1.107366e-07  0.082837  0.056333   0.526890\n",
       "4     1.483430e-09  0.072268  0.067576   0.328392\n",
       "...            ...       ...       ...        ...\n",
       "1195  1.844783e-06  0.450419  0.086525   5.820038\n",
       "1196  4.318208e-04  0.688108  0.240566  11.439051\n",
       "1197  2.755359e-03  1.180219  0.502825   7.153612\n",
       "1198  5.392784e-06  0.315918  0.162854   2.599028\n",
       "1199  2.334236e-06  0.294485  0.167000   3.029814\n",
       "\n",
       "[1200 rows x 4 columns]"
      ]
     },
     "execution_count": 91,
     "metadata": {},
     "output_type": "execute_result"
    }
   ],
   "source": [
    "DF"
   ]
  },
  {
   "cell_type": "code",
   "execution_count": 94,
   "metadata": {},
   "outputs": [],
   "source": [
    "DF2 = pd.DataFrame(avgprep)\n",
    "DF2.to_csv(\"MSRfull.csv\")"
   ]
  },
  {
   "cell_type": "code",
   "execution_count": 95,
   "metadata": {},
   "outputs": [
    {
     "data": {
      "text/plain": [
       "array([[0.01301903, 0.0192043 , 0.02682222, 0.03279812, 0.03865036,\n",
       "        0.04983229, 0.05647559, 0.06288139, 0.07202538],\n",
       "       [0.07989238, 0.08039323, 0.07871091, 0.07234357, 0.06832338,\n",
       "        0.05640099, 0.05333247, 0.05432268, 0.05888513],\n",
       "       [0.33725275, 0.33957639, 0.3403499 , 0.33723084, 0.33867401,\n",
       "        0.33465815, 0.30726139, 0.30107887, 0.30322443],\n",
       "       [0.15418479, 0.15176214, 0.14557478, 0.1366242 , 0.14259928,\n",
       "        0.15284962, 0.15771345, 0.15493935, 0.14248729],\n",
       "       [0.6056433 , 0.60728584, 0.60724597, 0.57896391, 0.58007064,\n",
       "        0.53707064, 0.59219985, 0.61977849, 0.60412888],\n",
       "       [0.1198847 , 0.11837104, 0.11338929, 0.1124965 , 0.11145137,\n",
       "        0.09628584, 0.09370107, 0.09417435, 0.1031314 ],\n",
       "       [0.89932215, 0.86986301, 0.63333967, 0.57688994, 0.60765692,\n",
       "        0.66464113, 0.83439664, 0.91690591, 0.91913466],\n",
       "       [1.13213513, 0.99530231, 0.9634782 , 0.813339  , 0.82329238,\n",
       "        0.82144869, 0.8500839 , 0.78026178, 0.78240462],\n",
       "       [0.55553654, 0.49583666, 0.49284285, 0.45509987, 0.46360693,\n",
       "        0.4734032 , 0.48194905, 0.46542522, 0.47481165]])"
      ]
     },
     "execution_count": 95,
     "metadata": {},
     "output_type": "execute_result"
    }
   ],
   "source": [
    "avgprep[1:10,1:10]"
   ]
  },
  {
   "cell_type": "code",
   "execution_count": 156,
   "metadata": {},
   "outputs": [],
   "source": [
    "# Vector of extreme values\n",
    "extreme = np.sum(avgprep > 6.16, axis = 1)"
   ]
  },
  {
   "cell_type": "code",
   "execution_count": 157,
   "metadata": {},
   "outputs": [],
   "source": [
    "# Vector of high values\n",
    "high = np.sum((avgprep > 1.82) & (avgprep <= 6.16), axis = 1)"
   ]
  },
  {
   "cell_type": "code",
   "execution_count": 158,
   "metadata": {},
   "outputs": [],
   "source": [
    "# Vector of medium values\n",
    "medium = np.sum((avgprep > 0.46) & (avgprep <= 1.82), axis = 1)"
   ]
  },
  {
   "cell_type": "code",
   "execution_count": 159,
   "metadata": {},
   "outputs": [],
   "source": [
    "# Vector of low values\n",
    "low = np.sum((avgprep > 0.1) & (avgprep <= 0.46), axis = 1)"
   ]
  },
  {
   "cell_type": "code",
   "execution_count": 160,
   "metadata": {},
   "outputs": [],
   "source": [
    "# Vector of very low values\n",
    "verylow = np.sum(avgprep <= 0.1, axis = 1)"
   ]
  },
  {
   "cell_type": "code",
   "execution_count": 161,
   "metadata": {},
   "outputs": [
    {
     "data": {
      "text/plain": [
       "(9184, 9184)"
      ]
     },
     "execution_count": 161,
     "metadata": {},
     "output_type": "execute_result"
    }
   ],
   "source": [
    "# Checking that the columns all sum to the right number of points\n",
    "(min(verylow+low+medium+high+extreme),max(verylow+low+medium+high+extreme))"
   ]
  },
  {
   "cell_type": "code",
   "execution_count": 162,
   "metadata": {},
   "outputs": [],
   "source": [
    "props = np.column_stack((verylow,low,medium,high,extreme))\n",
    "props = pd.DataFrame(props)"
   ]
  },
  {
   "cell_type": "code",
   "execution_count": 164,
   "metadata": {},
   "outputs": [],
   "source": [
    "props.columns = ['verylow','low','medium','high','extreme']"
   ]
  },
  {
   "cell_type": "code",
   "execution_count": 165,
   "metadata": {},
   "outputs": [],
   "source": [
    "props.to_csv(\"MSRprops2.csv\")"
   ]
  }
 ],
 "metadata": {
  "kernelspec": {
   "display_name": "Python [conda env:geog0121-geog0121]",
   "language": "python",
   "name": "conda-env-geog0121-geog0121-py"
  },
  "language_info": {
   "codemirror_mode": {
    "name": "ipython",
    "version": 3
   },
   "file_extension": ".py",
   "mimetype": "text/x-python",
   "name": "python",
   "nbconvert_exporter": "python",
   "pygments_lexer": "ipython3",
   "version": "3.7.8"
  }
 },
 "nbformat": 4,
 "nbformat_minor": 4
}
